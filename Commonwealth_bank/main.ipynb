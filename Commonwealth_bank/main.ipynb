{
 "cells": [
  {
   "cell_type": "markdown",
   "id": "36470f4e",
   "metadata": {},
   "source": [
    "<h1>\n",
    "<hr style=\" border:none; height:3px;\">\n",
    "<center>Bank Study Case</center>\n",
    "<hr style=\" border:none; height:3px;\">\n",
    "</h1>\n",
    "\n",
    "<center><img src='https://www.dot-anonymizer.fr/wp-content/uploads/2021/07/Banner-article-DOT-Anonymiser-ses-donnees-1.png' width=200></center>"
   ]
  },
  {
   "cell_type": "code",
   "execution_count": 46,
   "id": "ad9c1fbd",
   "metadata": {},
   "outputs": [],
   "source": [
    "import pandas as pd\n",
    "import matplotlib.pyplot as plt\n",
    "import numpy as np"
   ]
  },
  {
   "cell_type": "markdown",
   "id": "ef47f79d",
   "metadata": {},
   "source": [
    "# I - Data anonymisation"
   ]
  },
  {
   "cell_type": "code",
   "execution_count": 47,
   "id": "83b4a269",
   "metadata": {},
   "outputs": [
    {
     "data": {
      "text/html": [
       "<div>\n",
       "<style scoped>\n",
       "    .dataframe tbody tr th:only-of-type {\n",
       "        vertical-align: middle;\n",
       "    }\n",
       "\n",
       "    .dataframe tbody tr th {\n",
       "        vertical-align: top;\n",
       "    }\n",
       "\n",
       "    .dataframe thead th {\n",
       "        text-align: right;\n",
       "    }\n",
       "</style>\n",
       "<table border=\"1\" class=\"dataframe\">\n",
       "  <thead>\n",
       "    <tr style=\"text-align: right;\">\n",
       "      <th></th>\n",
       "      <th>Unnamed: 0</th>\n",
       "      <th>customer_id</th>\n",
       "      <th>date_registered</th>\n",
       "      <th>username</th>\n",
       "      <th>name</th>\n",
       "      <th>gender</th>\n",
       "      <th>address</th>\n",
       "      <th>email</th>\n",
       "      <th>birthdate</th>\n",
       "      <th>current_location</th>\n",
       "      <th>residence</th>\n",
       "      <th>employer</th>\n",
       "      <th>job</th>\n",
       "      <th>age</th>\n",
       "      <th>salary</th>\n",
       "      <th>credit_card_provider</th>\n",
       "      <th>credit_card_number</th>\n",
       "      <th>credit_card_security_code</th>\n",
       "      <th>credit_card_expire</th>\n",
       "    </tr>\n",
       "  </thead>\n",
       "  <tbody>\n",
       "    <tr>\n",
       "      <th>0</th>\n",
       "      <td>0</td>\n",
       "      <td>24c9d2d0-d0d3-4a90-9a3a-e00e4aac99bd</td>\n",
       "      <td>2021-09-29</td>\n",
       "      <td>robertsbryan</td>\n",
       "      <td>Jonathan Snyder</td>\n",
       "      <td>M</td>\n",
       "      <td>24675 Susan Valley\\nNorth Dianabury, MO 02475</td>\n",
       "      <td>marcus58@hotmail.com</td>\n",
       "      <td>1978-03-11</td>\n",
       "      <td>['78.937112', '71.260464']</td>\n",
       "      <td>195 Brandi Junctions\\nNew Julieberg, NE 63410</td>\n",
       "      <td>Byrd, Welch and Holt</td>\n",
       "      <td>Chief Technology Officer</td>\n",
       "      <td>49</td>\n",
       "      <td>53979</td>\n",
       "      <td>VISA 19 digit</td>\n",
       "      <td>38985874269846</td>\n",
       "      <td>994</td>\n",
       "      <td>2023-10-27 00:00:00</td>\n",
       "    </tr>\n",
       "  </tbody>\n",
       "</table>\n",
       "</div>"
      ],
      "text/plain": [
       "   Unnamed: 0                           customer_id date_registered  \\\n",
       "0           0  24c9d2d0-d0d3-4a90-9a3a-e00e4aac99bd      2021-09-29   \n",
       "\n",
       "       username             name gender  \\\n",
       "0  robertsbryan  Jonathan Snyder      M   \n",
       "\n",
       "                                         address                 email  \\\n",
       "0  24675 Susan Valley\\nNorth Dianabury, MO 02475  marcus58@hotmail.com   \n",
       "\n",
       "   birthdate            current_location  \\\n",
       "0 1978-03-11  ['78.937112', '71.260464']   \n",
       "\n",
       "                                       residence              employer  \\\n",
       "0  195 Brandi Junctions\\nNew Julieberg, NE 63410  Byrd, Welch and Holt   \n",
       "\n",
       "                        job  age  salary credit_card_provider  \\\n",
       "0  Chief Technology Officer   49   53979        VISA 19 digit   \n",
       "\n",
       "   credit_card_number  credit_card_security_code   credit_card_expire  \n",
       "0      38985874269846                        994  2023-10-27 00:00:00  "
      ]
     },
     "execution_count": 47,
     "metadata": {},
     "output_type": "execute_result"
    }
   ],
   "source": [
    "df = pd.read_excel('mobile_customers.xlsx')\n",
    "df.head(1)"
   ]
  },
  {
   "cell_type": "code",
   "execution_count": 48,
   "id": "349f9147",
   "metadata": {},
   "outputs": [
    {
     "name": "stdout",
     "output_type": "stream",
     "text": [
      "Index(['Unnamed: 0', 'customer_id', 'date_registered', 'username', 'name',\n",
      "       'gender', 'address', 'email', 'birthdate', 'current_location',\n",
      "       'residence', 'employer', 'job', 'age', 'salary', 'credit_card_provider',\n",
      "       'credit_card_number', 'credit_card_security_code',\n",
      "       'credit_card_expire'],\n",
      "      dtype='object')\n"
     ]
    }
   ],
   "source": [
    "print(df.columns)"
   ]
  },
  {
   "cell_type": "code",
   "execution_count": 49,
   "id": "58ee2c2f",
   "metadata": {},
   "outputs": [],
   "source": [
    "# Dropping unnamed column\n",
    "df = df.drop(columns=['Unnamed: 0'])"
   ]
  },
  {
   "cell_type": "code",
   "execution_count": 50,
   "id": "8a3a7ee7",
   "metadata": {},
   "outputs": [],
   "source": [
    "# Replacing dates by YYYY-QX (Q standing for quarters)\n",
    "df['birthdate'] = df['birthdate'].astype(str)\n",
    "df['birthdate'] = df['birthdate'].apply(lambda x: x.split('-')[0] + '-Q' + str(int(x.split('-')[1])//3 + 1))\n",
    "\n",
    "df['date_registered'] = df['date_registered'].astype(str)\n",
    "df['date_registered'] = df['date_registered'].apply(lambda x: x.split('-')[0] + '-Q' + str(int(x.split('-')[1])//3 + 1))\n",
    "\n",
    "df = df.drop(columns=['name', 'email', 'credit_card_number', 'credit_card_security_code', 'credit_card_expire', 'address', 'current_location', 'residence', 'username'])\n",
    "bins   = [0,10,20,30,40,50,60,70,80,90,100]\n",
    "labels = [f\"{b}-{b+9}\" for b in bins[:-1]]\n",
    "df[\"age\"] = pd.cut(df[\"age\"],\n",
    "                         bins=bins,\n",
    "                         labels=labels,\n",
    "                         right=True,           \n",
    "                         include_lowest=True)\n",
    "\n",
    "\n",
    "# Adding noise to column salary to prevent identification\n",
    "noise = np.random.normal(loc=0, scale=10, size=len(df))\n",
    "df[\"salary\"] = df[\"salary\"] + noise"
   ]
  },
  {
   "cell_type": "code",
   "execution_count": 51,
   "id": "a00fa207",
   "metadata": {},
   "outputs": [
    {
     "data": {
      "text/html": [
       "<div>\n",
       "<style scoped>\n",
       "    .dataframe tbody tr th:only-of-type {\n",
       "        vertical-align: middle;\n",
       "    }\n",
       "\n",
       "    .dataframe tbody tr th {\n",
       "        vertical-align: top;\n",
       "    }\n",
       "\n",
       "    .dataframe thead th {\n",
       "        text-align: right;\n",
       "    }\n",
       "</style>\n",
       "<table border=\"1\" class=\"dataframe\">\n",
       "  <thead>\n",
       "    <tr style=\"text-align: right;\">\n",
       "      <th></th>\n",
       "      <th>customer_id</th>\n",
       "      <th>date_registered</th>\n",
       "      <th>gender</th>\n",
       "      <th>birthdate</th>\n",
       "      <th>employer</th>\n",
       "      <th>job</th>\n",
       "      <th>age</th>\n",
       "      <th>salary</th>\n",
       "      <th>credit_card_provider</th>\n",
       "    </tr>\n",
       "  </thead>\n",
       "  <tbody>\n",
       "    <tr>\n",
       "      <th>0</th>\n",
       "      <td>24c9d2d0-d0d3-4a90-9a3a-e00e4aac99bd</td>\n",
       "      <td>2021-Q4</td>\n",
       "      <td>M</td>\n",
       "      <td>1978-Q2</td>\n",
       "      <td>Byrd, Welch and Holt</td>\n",
       "      <td>Chief Technology Officer</td>\n",
       "      <td>40-49</td>\n",
       "      <td>53979.619959</td>\n",
       "      <td>VISA 19 digit</td>\n",
       "    </tr>\n",
       "    <tr>\n",
       "      <th>1</th>\n",
       "      <td>7b2bc220-0296-4914-ba46-d6cc6a55a62a</td>\n",
       "      <td>2019-Q3</td>\n",
       "      <td>F</td>\n",
       "      <td>1970-Q4</td>\n",
       "      <td>Hurst PLC</td>\n",
       "      <td>Data scientist</td>\n",
       "      <td>40-49</td>\n",
       "      <td>81511.015023</td>\n",
       "      <td>Discover</td>\n",
       "    </tr>\n",
       "  </tbody>\n",
       "</table>\n",
       "</div>"
      ],
      "text/plain": [
       "                            customer_id date_registered gender birthdate  \\\n",
       "0  24c9d2d0-d0d3-4a90-9a3a-e00e4aac99bd         2021-Q4      M   1978-Q2   \n",
       "1  7b2bc220-0296-4914-ba46-d6cc6a55a62a         2019-Q3      F   1970-Q4   \n",
       "\n",
       "               employer                       job    age        salary  \\\n",
       "0  Byrd, Welch and Holt  Chief Technology Officer  40-49  53979.619959   \n",
       "1             Hurst PLC            Data scientist  40-49  81511.015023   \n",
       "\n",
       "  credit_card_provider  \n",
       "0        VISA 19 digit  \n",
       "1             Discover  "
      ]
     },
     "execution_count": 51,
     "metadata": {},
     "output_type": "execute_result"
    }
   ],
   "source": [
    "df.head(2)"
   ]
  },
  {
   "cell_type": "code",
   "execution_count": 53,
   "id": "e1369bfa",
   "metadata": {},
   "outputs": [],
   "source": [
    "df.to_excel('anonymised_dataset.xlsx')"
   ]
  },
  {
   "cell_type": "markdown",
   "id": "6a33391b",
   "metadata": {},
   "source": [
    "# Twitter"
   ]
  },
  {
   "cell_type": "markdown",
   "id": "ba687600",
   "metadata": {},
   "source": [
    "**Note**\n",
    "\n",
    "<div class='alert alert-bloc alert-info'>Now, the strategy will be to visualize the sentiments (or at least the polarity) of tweets associated with the “@CommBank Twitter Account”. Here is the forwarded email detailing my approach:\n",
    "<div class='alert alert-bloc alert-solution'>\n",
    "Hi,\n",
    "\n",
    "I hope this email finds you well.\n",
    "\n",
    "After familiarizing myself with the “@CommBank Twitter Account”, I have thought of leveraging the X API to leverage the data available at hands:\n",
    "\n",
    "Extracting large amounts of tweets would allow us to identify peak times of engagement using the ‘created_at’ feature\n",
    "We could do further analysis to see what are the themes and contents that generate the highest engagement (eventually using an LLM to automate this part) - and visualize it on a mind map for instance\n",
    "Lastly, we could set up a sentiment analysis pipeline with textblob for instance to identify drops in customer engagement and polarity to identify accidents, bad customer experience and such, allowing for faster response.\n",
    "\n",
    "Kind regards,\n",
    "\n",
    "Louis</div>\n",
    "</div>"
   ]
  },
  {
   "cell_type": "code",
   "execution_count": null,
   "id": "03e3cc0f",
   "metadata": {},
   "outputs": [],
   "source": []
  }
 ],
 "metadata": {
  "kernelspec": {
   "display_name": "Python 3",
   "language": "python",
   "name": "python3"
  },
  "language_info": {
   "codemirror_mode": {
    "name": "ipython",
    "version": 3
   },
   "file_extension": ".py",
   "mimetype": "text/x-python",
   "name": "python",
   "nbconvert_exporter": "python",
   "pygments_lexer": "ipython3",
   "version": "3.11.7"
  }
 },
 "nbformat": 4,
 "nbformat_minor": 5
}
